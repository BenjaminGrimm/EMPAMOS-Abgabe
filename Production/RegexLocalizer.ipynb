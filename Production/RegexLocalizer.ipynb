{
 "cells": [
  {
   "cell_type": "markdown",
   "metadata": {},
   "source": [
    "Klasse regex_localizer\n",
    "\n",
    "Findet Patterns in einer Anleitung anhand von regulären Ausdrücken.\n",
    "\n",
    "Funktionen: \n",
    "\n",
    "    init( pattern_expressions)\n",
    "        pattern_expressions:  Dictionary mit Key: Pattern ID; Value: Liste mit regulären Ausdrücken zu dem Pattern. \n",
    "        \n",
    "    set_min_sentence_length(min_length)\n",
    "        min_length: Mindest-Wortanzahl der Sätze. Sätze die weniger Wörter beinhalten, werden nicht geprüft.\n",
    "    \n",
    "    read_nlp_processed_game_to_game_patterns(nlp_processed_game)\n",
    "        nlp_processed_game:      nlp_processed_game Objekt\n",
    "        returns:                 game_patterns Objekt"
   ]
  },
  {
   "cell_type": "code",
   "execution_count": null,
   "metadata": {},
   "outputs": [],
   "source": []
  },
  {
   "cell_type": "code",
   "execution_count": 1,
   "metadata": {},
   "outputs": [],
   "source": [
    "from cassandra.cluster import Cluster\n",
    "from cassandra.auth import PlainTextAuthProvider\n",
    "import json\n",
    "import re"
   ]
  },
  {
   "cell_type": "code",
   "execution_count": 2,
   "metadata": {},
   "outputs": [],
   "source": [
    "%run ./GamePatterns.ipynb\n",
    "%run ./nlpProcessedGame.ipynb"
   ]
  },
  {
   "cell_type": "code",
   "execution_count": null,
   "metadata": {},
   "outputs": [],
   "source": [
    "class regex_localizer:\n",
    "    #def __init__ (self, *args, **kwargs):\n",
    "        \n",
    "        \n",
    "    def init(self, pattern_expressions, use_lemma):\n",
    "        self.pattern_expressions = pattern_expressions\n",
    "        self.min_length = 0\n",
    "        self.use_lemma = use_lemma\n",
    "            \n",
    "    \n",
    "            \n",
    "    def set_min_sentence_length(self, min_length):\n",
    "        self.min_length = min_length\n",
    "        \n",
    "    def read_nlp_processed_game_to_game_patterns(self,nlp_processed_game):\n",
    "        gp = game_patterns()\n",
    "        gp.set_ID(nlp_processed_game.get_ID())\n",
    "        doc=nlp_processed_game.get_spacy_doc()\n",
    "        #Alle Satzanfänge ermitteln\n",
    "        sentences = {}\n",
    "        for key, value in self.pattern_expressions.items():\n",
    "                sentences[str(key)] = []\n",
    "        sentenceTexts = []\n",
    "        currSent = -1\n",
    "        for sent in doc.sents:\n",
    "            currSent += 1\n",
    "            sentenceTexts.append(str(sent))\n",
    "            if (len(sent)<self.min_length):\n",
    "                continue\n",
    "            for key, value in self.pattern_expressions.items():\n",
    "                for expression in value:\n",
    "                    match = \"\"\n",
    "                    if(self.use_lemma):\n",
    "                        match = re.search(expression, str(sent.lemma_), re.IGNORECASE)\n",
    "                    else:\n",
    "                        match = re.search(expression, str(sent), re.IGNORECASE)\n",
    "                    if(match):\n",
    "                        sentences[str(key)].append(currSent)\n",
    "                        break\n",
    "               \n",
    "            \n",
    "        gp.set_sentences(sentenceTexts)\n",
    "        #print(sentences)\n",
    "        for key, value in sentences.items():\n",
    "            if(len(value)>0):\n",
    "                gp.add_pattern(int(key),value.copy())\n",
    "        \n",
    "        return gp\n",
    "    "
   ]
  },
  {
   "cell_type": "markdown",
   "metadata": {},
   "source": [
    "test_patterns = {}\n",
    "#test_patterns[\"73230\"]=(\"jeden\", \"alle spieler\", \"jeder\", \"je\", \"die biber\", \"ihre startfelder\", \"auf die ausgangsfelder\", \"stellt sie\", \"eine spielfigur\", \"jedes\", \"alle ritter dieser farbe\", \"jeder eine tierart\", \"zahlenm\\u00e4\\u00dfig etwa gleichstarke\", \"das startfeld\", \"gestellt\", \"bringt eure boote\", \"jede/r\", \"den start\", \"alle\", \"startfeld\", \"eure figur\", \"zentrale\")\n",
    "test_patterns[\"73230\"]=(\"jede.*start\")"
   ]
  }
 ],
 "metadata": {
  "kernelspec": {
   "display_name": "Python 3",
   "language": "python",
   "name": "python3"
  },
  "language_info": {
   "codemirror_mode": {
    "name": "ipython",
    "version": 3
   },
   "file_extension": ".py",
   "mimetype": "text/x-python",
   "name": "python",
   "nbconvert_exporter": "python",
   "pygments_lexer": "ipython3",
   "version": "3.7.3"
  },
  "toc": {
   "base_numbering": 1,
   "nav_menu": {},
   "number_sections": true,
   "sideBar": true,
   "skip_h1_title": false,
   "title_cell": "Table of Contents",
   "title_sidebar": "Contents",
   "toc_cell": false,
   "toc_position": {},
   "toc_section_display": true,
   "toc_window_display": false
  }
 },
 "nbformat": 4,
 "nbformat_minor": 2
}
