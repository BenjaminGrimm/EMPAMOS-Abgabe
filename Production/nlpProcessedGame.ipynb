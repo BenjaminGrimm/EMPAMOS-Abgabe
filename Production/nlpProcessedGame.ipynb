{
 "cells": [
  {
   "cell_type": "markdown",
   "metadata": {},
   "source": [
    "Klasse nlp_processed_game\n",
    "\n",
    "Repräsentiert eine Anleitung, die von spacy nlp verarbeitet wurde. Enthält die GameID und das entsprechende SpacyDoc.\n",
    "\n",
    "Funktionen: \n",
    "\n",
    "    set_ID (id):\n",
    "        \n",
    "    get_ID ():\n",
    "        \n",
    "    set_spacy_doc (spacy_doc):\n",
    "        \n",
    "    get_spacy_doc ():"
   ]
  },
  {
   "cell_type": "code",
   "execution_count": 1,
   "metadata": {},
   "outputs": [],
   "source": [
    "class nlp_processed_game:\n",
    "        \n",
    "    def __init__ (self, *args, **kwargs):\n",
    "        if \"id\" in kwargs:\n",
    "            self.id = kwargs[\"id\"]\n",
    "        else:\n",
    "            self.meta = \"\"\n",
    "        if \"spacy_doc\" in kwargs:\n",
    "            self.spacy_doc = kwargs[\"spacy_doc\"]\n",
    "        else:\n",
    "            self.patterns = \"\"\n",
    " \n",
    "          \n",
    "        \n",
    "    def set_ID (self,id):\n",
    "        self.id = id\n",
    "        \n",
    "    def get_ID (self):\n",
    "        return self.id\n",
    "        \n",
    "    def set_spacy_doc (self, spacy_doc):\n",
    "        self.spacy_doc = spacy_doc\n",
    "        \n",
    "    def get_spacy_doc (self):\n",
    "        return self.spacy_doc"
   ]
  },
  {
   "cell_type": "code",
   "execution_count": null,
   "metadata": {},
   "outputs": [],
   "source": []
  }
 ],
 "metadata": {
  "kernelspec": {
   "display_name": "Python 3",
   "language": "python",
   "name": "python3"
  },
  "language_info": {
   "codemirror_mode": {
    "name": "ipython",
    "version": 3
   },
   "file_extension": ".py",
   "mimetype": "text/x-python",
   "name": "python",
   "nbconvert_exporter": "python",
   "pygments_lexer": "ipython3",
   "version": "3.7.3"
  },
  "toc": {
   "base_numbering": 1,
   "nav_menu": {},
   "number_sections": true,
   "sideBar": true,
   "skip_h1_title": false,
   "title_cell": "Table of Contents",
   "title_sidebar": "Contents",
   "toc_cell": false,
   "toc_position": {},
   "toc_section_display": true,
   "toc_window_display": false
  }
 },
 "nbformat": 4,
 "nbformat_minor": 2
}
