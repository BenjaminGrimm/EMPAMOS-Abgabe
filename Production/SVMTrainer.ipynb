{
 "cells": [
  {
   "cell_type": "markdown",
   "metadata": {},
   "source": [
    "__<font size=\"6\" weight=\"bold\">SVM Trainer</font>__\n",
    "\n",
    "Hier werden die Modelle für die SVM angelernt. <br>\n",
    "Dazu werden alle Pattern durchlaufen. Für jedes Pattern wird ein DataFrame mit positiven und negativen Sätzen erstellt. <br>\n",
    "Das DataFrame wird dann an den SVMLocalizer übergeben und dieser trainiert das Model und speichert es mittels der pickle-Bibliothek ab <br>\n",
    "Der Dateiname wird aus der ID des Spiels genertiert <br>"
   ]
  },
  {
   "cell_type": "markdown",
   "metadata": {},
   "source": [
    "## Initialisieren der benötigten Klassen"
   ]
  },
  {
   "cell_type": "code",
   "execution_count": null,
   "metadata": {},
   "outputs": [],
   "source": [
    "%run REST.ipynb\n",
    "%run SVMLocalizer.ipynb\n",
    "%run TrainingSetFactory.ipynb"
   ]
  },
  {
   "cell_type": "markdown",
   "metadata": {},
   "source": [
    "## Trainieren und speichern aller Modelle \n",
    "\n",
    "Auslesen aller Patterns über Rest-API. Iterieren über Patterns und Trainieren der Modelle"
   ]
  },
  {
   "cell_type": "code",
   "execution_count": null,
   "metadata": {
    "scrolled": true
   },
   "outputs": [],
   "source": [
    "is_balanced = True\n",
    "has_stopwords = False\n",
    "sentences_threshold = 4\n",
    "\n",
    "loc = SVMLocalizer()\n",
    "factory = TrainingSetFactory(sentences_threshold)\n",
    "\n",
    "pattern_ids = [pattern['pattern_id'] for pattern in client.get_patterns()]\n",
    "\n",
    "for id in pattern_ids:\n",
    "    print(id)\n",
    "    df = factory.trainings_dataframe(id,is_balanced,has_stopwords)\n",
    "    if(factory.isValid):\n",
    "        loc.train(id, df)\n",
    "    else:\n",
    "        print(f'Keine Daten vorhanden! {id}')\n",
    "\n",
    "    "
   ]
  },
  {
   "cell_type": "code",
   "execution_count": null,
   "metadata": {},
   "outputs": [],
   "source": []
  }
 ],
 "metadata": {
  "kernelspec": {
   "display_name": "Python 3",
   "language": "python",
   "name": "python3"
  },
  "language_info": {
   "codemirror_mode": {
    "name": "ipython",
    "version": 3
   },
   "file_extension": ".py",
   "mimetype": "text/x-python",
   "name": "python",
   "nbconvert_exporter": "python",
   "pygments_lexer": "ipython3",
   "version": "3.7.3"
  },
  "toc": {
   "base_numbering": 1,
   "nav_menu": {},
   "number_sections": true,
   "sideBar": true,
   "skip_h1_title": false,
   "title_cell": "Table of Contents",
   "title_sidebar": "Contents",
   "toc_cell": false,
   "toc_position": {},
   "toc_section_display": true,
   "toc_window_display": false
  }
 },
 "nbformat": 4,
 "nbformat_minor": 2
}
