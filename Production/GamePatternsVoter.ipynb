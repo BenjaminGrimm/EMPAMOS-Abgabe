{
 "cells": [
  {
   "cell_type": "markdown",
   "metadata": {},
   "source": [
    "Voter Funktionen <br>\n",
    "**merge_game_patterns**\n",
    "\n",
    "    Parameter: \n",
    "        game_patterns_list  Liste von GamePatterns\n",
    "        weights             Liste von Gewichten der GamePatterns. Muss die selbe Länge haben wie game_patterns_list\n",
    "        threshold           Grenzwert für Summe der Gewichte um einen Satz zum Resultat hinzuzufügen\n",
    "\n",
    "    Rückgabe: ein einzelnes GamePatterns\n",
    "\n",
    "Beschreibung: \n",
    "Alle GamePatterns aus game_patterns_list müssen sich auf das selbe Spiel beziehen. Falls verschiedene Spiele übergeben werden, wird der Fehlercode -1 zurück gegeben. \n",
    "\n",
    "Das Resultat wird folgendermaßen gebildet:\n",
    "Je Pattern und Satz wird geprüft in welchen GamePatterns die Sätze vorkommen. Die Eingangs-GamePatterns werden dabei mit dem zugehörigen Gewicht aus weights gewichte. Wenn mindestens der threshold erreicht wurde, enthält das Resultat auch den Satz.   \n",
    "\n",
    "**merge_game_patterns_uniform**\n",
    "\n",
    "    Parameter:\n",
    "        game_patterns_list  Liste von GamePatterns\n",
    "        \n",
    "    Rückgabe: ein einzelnes GamePatterns\n",
    "\n",
    "Beschreibung:\n",
    "Wie merge_game_patterns, aber alle Eingangs-GamePatterns werden gleich stark gewichtet. threshold ist die Hälfte der Länge der liste; sprich wenn mindestens die Hälfte der Eingangs-GamePatterns den Satz enthalten, enthält das Resultat auch den Satz.  "
   ]
  },
  {
   "cell_type": "code",
   "execution_count": 1,
   "metadata": {},
   "outputs": [],
   "source": [
    "\n",
    "%run ./GamePatterns.ipynb "
   ]
  },
  {
   "cell_type": "code",
   "execution_count": 13,
   "metadata": {},
   "outputs": [],
   "source": [
    "def merge_game_patterns (game_patterns_list,weights,threshold):\n",
    "    \n",
    "    game_ID = game_patterns_list[0].get_ID()\n",
    "    game_sentence_count = game_patterns_list[0].get_sentence_count()\n",
    "    \n",
    "    found_patterns_count = {}\n",
    "    for i in range(0, len(game_patterns_list)):\n",
    "        #Konsistenz Prüfung\n",
    "        if game_patterns_list[i].get_ID() != game_ID or game_patterns_list[i].get_sentence_count() != game_sentence_count:\n",
    "            print(\"Game Patterns sind inkonsistent! Game Patterns müssen die gleiche ID und Satzanzahl haben!\")\n",
    "            return -1\n",
    "        \n",
    "        for pattern in game_patterns_list[i].patterns:\n",
    "            if not pattern in found_patterns_count:\n",
    "                found_patterns_count[pattern] = {}\n",
    "            for sent in game_patterns_list[i].patterns[pattern]:\n",
    "                #print(sent)\n",
    "                #print(found_patterns_count)\n",
    "                if sent in found_patterns_count[pattern]:\n",
    "                    found_patterns_count[pattern][sent] += weights[i]\n",
    "                else:\n",
    "                    found_patterns_count[pattern][sent] = weights[i]\n",
    "    #print(found_patterns_count)\n",
    "    merged = game_patterns()\n",
    "    merged.set_ID(game_patterns_list[0].get_ID())\n",
    "    merged.set_sentences(game_patterns_list[0].get_sentences())\n",
    "    for pattern in found_patterns_count:\n",
    "        sents = [sent for sent in found_patterns_count[pattern] if found_patterns_count[pattern][sent] >=threshold]\n",
    "        #print(sents)\n",
    "        if len(sents) > 0:\n",
    "            merged.add_pattern(pattern,sents)\n",
    "    return merged\n",
    "    \n",
    "def merge_game_patterns_uniform (game_patterns_list):\n",
    "    weights = [1] * len(game_patterns_list)\n",
    "    threshold = len(game_patterns_list) / 2\n",
    "    return merge_game_patterns(game_patterns_list,weights,threshold)\n",
    "    "
   ]
  },
  {
   "cell_type": "markdown",
   "metadata": {},
   "source": [
    "gp1 = game_patterns()\n",
    "gp1.set_ID(1)\n",
    "#gp1.set_sentences(40)\n",
    "gp1.add_pattern(1,[3,6,10])\n",
    "gp1.add_pattern(2,[5,15,19])\n",
    "gp1.add_pattern(3,[11])\n",
    "gp1.add_pattern(4,[22,23,26])\n",
    "\n",
    "gp2 = game_patterns()\n",
    "gp2.set_ID(1)\n",
    "#gp2.set_sentence_count(40)\n",
    "gp2.add_pattern(1,[3,10])\n",
    "gp2.add_pattern(2,[15,19])\n",
    "gp2.add_pattern(3,[11,13])\n",
    "gp2.add_pattern(4,[27])\n",
    "gp2.add_pattern(5,[15])\n",
    "\n",
    "gp3 = game_patterns()\n",
    "gp3.set_ID(1)\n",
    "#gp3.set_sentence_count(40)\n",
    "gp3.add_pattern(2,[15,19])\n",
    "gp3.add_pattern(3,[11,13])\n",
    "gp3.add_pattern(4,[23])\n",
    "gp3.add_pattern(5,[12])"
   ]
  },
  {
   "cell_type": "markdown",
   "metadata": {},
   "source": [
    "merged = merge_game_patterns([gp1, gp2, gp3],[3,1,1],1.5)\n",
    "print(gp1.patterns)\n",
    "print(gp2.patterns)\n",
    "print(gp3.patterns)\n",
    "print(merged.patterns)\n"
   ]
  },
  {
   "cell_type": "code",
   "execution_count": null,
   "metadata": {},
   "outputs": [],
   "source": []
  }
 ],
 "metadata": {
  "kernelspec": {
   "display_name": "Python 3",
   "language": "python",
   "name": "python3"
  },
  "language_info": {
   "codemirror_mode": {
    "name": "ipython",
    "version": 3
   },
   "file_extension": ".py",
   "mimetype": "text/x-python",
   "name": "python",
   "nbconvert_exporter": "python",
   "pygments_lexer": "ipython3",
   "version": "3.7.3"
  },
  "toc": {
   "base_numbering": 1,
   "nav_menu": {},
   "number_sections": true,
   "sideBar": true,
   "skip_h1_title": false,
   "title_cell": "Table of Contents",
   "title_sidebar": "Contents",
   "toc_cell": false,
   "toc_position": {},
   "toc_section_display": true,
   "toc_window_display": false
  }
 },
 "nbformat": 4,
 "nbformat_minor": 2
}
